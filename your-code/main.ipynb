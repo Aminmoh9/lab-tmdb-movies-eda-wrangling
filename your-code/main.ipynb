{
 "cells": [
  {
   "cell_type": "markdown",
   "metadata": {
    "id": "ybk7GwR2vHZ5"
   },
   "source": [
    "# <font color='darkred'>**TMBD Movies**</font>\n",
    "\n",
    "## **Table of Contents**\n",
    "<ul>\n",
    "<li><a href=\"#intro\">Introduction</a></li>\n",
    "<li><a href=\"#wrangling\">Data Wrangling</a></li>\n",
    "<li><a href=\"#eda\">Exploratory Data Analysis</a></li>\n",
    "<li><a href=\"#conclusions\">Conclusions</a></li>\n",
    "</ul>"
   ]
  },
  {
   "cell_type": "markdown",
   "metadata": {
    "id": "yMzvkW8yvHZ7"
   },
   "source": [
    "<a id='intro'></a>\n",
    "## **Introduction**\n",
    "\n",
    "> This dataset comes from IMDB and contains information about 10,000 movies,\n",
    "short films and tv series collected from The Movie Database (TMDb), including user ratings, revenue, runtime and budget.\n",
    "\n",
    "## **Generate Questions**\n",
    "\n",
    "In this project, i'll be answering the following questions:\n",
    "- What's the genre with the highest median popularity?\n",
    "- What's the genre with the highest median revenue?\n",
    "- What's the genre with the highest median vote_count?\n",
    "- What's the genre with the highest mean vote_average?\n",
    "- what movie is considered movie genre is considered the \"best\"?\n",
    "- What month is considered \"best\" for releasing a films?\n",
    "- What is the relationship between the columns and each other?"
   ]
  },
  {
   "cell_type": "markdown",
   "metadata": {
    "id": "y4DUCQOkvHZ9"
   },
   "source": [
    "## **Import Libraries**"
   ]
  },
  {
   "cell_type": "markdown",
   "metadata": {
    "id": "bo6owcSCvHZ-"
   },
   "source": [
    "## **Data Wrangling**\n",
    "\n",
    "\n",
    "### General Properties"
   ]
  },
  {
   "cell_type": "code",
   "execution_count": null,
   "metadata": {
    "colab": {
     "base_uri": "https://localhost:8080/",
     "height": 418
    },
    "id": "JDOJPW4zvHZ-",
    "outputId": "712b899e-1afd-4e87-9b18-2372345d8963"
   },
   "outputs": [],
   "source": [
    "# Load your data and print out a few lines. Perform operations to inspect data\n",
    "#   types and look for instances of missing or possibly errant data.\n"
   ]
  },
  {
   "cell_type": "markdown",
   "metadata": {
    "id": "uDL7TAz5vHZ-"
   },
   "source": [
    "## **Data Cleaning**"
   ]
  },
  {
   "cell_type": "code",
   "execution_count": null,
   "metadata": {
    "colab": {
     "base_uri": "https://localhost:8080/"
    },
    "id": "8LcQuSg3vHZ_",
    "outputId": "00695e12-cd4b-4f25-8fed-28c1741233a4"
   },
   "outputs": [],
   "source": [
    "# create a function to find and display NAs\n",
    "\n"
   ]
  },
  {
   "cell_type": "markdown",
   "metadata": {
    "id": "984ad2eQvHZ_"
   },
   "source": [
    "<a id='eda'></a>\n",
    "## **Exploratory Data Analysis**"
   ]
  },
  {
   "cell_type": "markdown",
   "metadata": {
    "id": "4-VkkQ0nvHZ_"
   },
   "source": [
    "### What's the genre with the highest median popularity?"
   ]
  },
  {
   "cell_type": "markdown",
   "metadata": {
    "id": "FQbZeW83vHaA"
   },
   "source": [
    "### What's the genre with the highest median revenue?"
   ]
  },
  {
   "cell_type": "markdown",
   "metadata": {
    "id": "p7A36MHxvHaB"
   },
   "source": [
    "### What's the genre with the highest median vote_count?"
   ]
  },
  {
   "cell_type": "markdown",
   "metadata": {
    "id": "a9AEk3fcvHaB"
   },
   "source": [
    "### What's the genre with the highest mean vote_average?"
   ]
  },
  {
   "cell_type": "markdown",
   "metadata": {
    "id": "7akn2lQvvHaC"
   },
   "source": [
    "### What movie is considered movie genre is considered the \"best\"?\n"
   ]
  },
  {
   "cell_type": "markdown",
   "metadata": {
    "id": "qTIvivk7vHaC"
   },
   "source": [
    "### What month is considered \"best\" for releasing a films/shows?\n"
   ]
  },
  {
   "cell_type": "markdown",
   "metadata": {
    "id": "20dOxovuvHaC"
   },
   "source": [
    "<a id='conclusions'></a>\n",
    "## Conclusions\n",
    "\n",
    "\n",
    "## Limitations\n"
   ]
  },
  {
   "cell_type": "code",
   "execution_count": null,
   "metadata": {
    "id": "SQgSAaz5xnB9"
   },
   "outputs": [],
   "source": []
  }
 ],
 "metadata": {
  "colab": {
   "provenance": []
  },
  "kernelspec": {
   "display_name": "Python 3 (ipykernel)",
   "language": "python",
   "name": "python3"
  },
  "language_info": {
   "codemirror_mode": {
    "name": "ipython",
    "version": 3
   },
   "file_extension": ".py",
   "mimetype": "text/x-python",
   "name": "python",
   "nbconvert_exporter": "python",
   "pygments_lexer": "ipython3",
   "version": "3.9.13"
  }
 },
 "nbformat": 4,
 "nbformat_minor": 1
}
